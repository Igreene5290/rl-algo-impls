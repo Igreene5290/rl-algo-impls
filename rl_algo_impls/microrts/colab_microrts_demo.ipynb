{
  "cells": [
    {
      "cell_type": "markdown",
      "metadata": {
        "id": "view-in-github",
        "colab_type": "text"
      },
      "source": [
        "<a href=\"https://colab.research.google.com/github/sgoodfriend/rl-algo-impls/blob/main/rl_algo_impls/microrts/colab_microrts_demo.ipynb\" target=\"_parent\"><img src=\"https://colab.research.google.com/assets/colab-badge.svg\" alt=\"Open In Colab\"/></a>"
      ]
    },
    {
      "cell_type": "markdown",
      "metadata": {
        "id": "NTyZ8p0HR3TC"
      },
      "source": [
        "# Running RoundRobinTournament in Google Colab\n",
        "MicroRTS has to talk to a Python server that runs code from the [sgoodfrieng/rl-algo-impls](https://github.com/sgoodfriend/rl-algo-impls) repo. This trained a residual convolutional model using PPO with invalid action masking. [Farama-Foundation/MicroRTS](https://github.com/Farama-Foundation/MicroRTS) was the inspiration for the training; however, at this point the useful bits of code are in rl-algo-impls as I extended behavior slightly.\n",
        "\n",
        "## Installation\n",
        "1. Clone repo"
      ]
    },
    {
      "cell_type": "code",
      "execution_count": null,
      "metadata": {
        "id": "1BjBfKkN4a8V"
      },
      "outputs": [],
      "source": [
        "%%capture\n",
        "!git clone https://github.com/sgoodfriend/rl-algo-impls.git"
      ]
    },
    {
      "cell_type": "markdown",
      "source": [
        "2. Install dependencies and expose `rai_microrts` command-line endpoint. Ubuntu 20.04's default JDK is Java 11. setuptools and wheel had to be downgraded because rl-algo-impls depends on stable-baslines3, which depends on gym 0.21."
      ],
      "metadata": {
        "id": "DjVtuj6jmHB-"
      }
    },
    {
      "cell_type": "code",
      "execution_count": null,
      "metadata": {
        "id": "6-3xbBll4qJq"
      },
      "outputs": [],
      "source": [
        "%%capture\n",
        "!apt install -y default-jdk\n",
        "!pip install setuptools==65.5.0\n",
        "!pip install wheel==0.38.4\n",
        "\n",
        "%cd /content/rl-algo-impls\n",
        "!git checkout 2519ac50fb82ee9b48eea09cb7240f830c60a2e7\n",
        "!python -m pip install -e ."
      ]
    },
    {
      "cell_type": "markdown",
      "source": [
        "3. Download model. [Model training curve on WandB.](https://wandb.ai/sgoodfriend/rl-algo-impls-benchmarks/reports/rl-algo-impls-MicroRTS-Training--Vmlldzo0NjA2NTAy)"
      ],
      "metadata": {
        "id": "3A_8BI5YmGZg"
      }
    },
    {
      "cell_type": "code",
      "source": [
        "%%capture\n",
        "%cd /content/rl-algo-impls/\n",
        "%mkdir -p saved_models/ppo-Microrts-selfplay-dc-phases-A10-S1-best\n",
        "%cd saved_models/ppo-Microrts-selfplay-dc-phases-A10-S1-best\n",
        "!wget https://api.wandb.ai/files/sgoodfriend/rl-algo-impls-benchmarks/df4flrs4/ppo-Microrts-selfplay-dc-phases-A10-S1-best.zip\n",
        "!unzip ppo-Microrts-selfplay-dc-phases-A10-S1-best.zip"
      ],
      "metadata": {
        "id": "zVsn5YWEa_YN"
      },
      "execution_count": null,
      "outputs": []
    },
    {
      "cell_type": "markdown",
      "source": [
        "4. Run `tournaments.RAIRoundRobinTournament` which runs 10 iterations of the submission AI RAISocketAI against 6 opponents on a 16x16 map. Depending on hardware, RAISocketAI can average from 50ms per turn on a Colab standard machine with 2-2.2GHz CPUs to 10ms per turn on modern CPUs, such as an Apple M1Max."
      ],
      "metadata": {
        "id": "koaWotNuu-dx"
      }
    },
    {
      "cell_type": "code",
      "execution_count": null,
      "metadata": {
        "id": "7DoCNZ6f6oFC"
      },
      "outputs": [],
      "source": [
        "%cd /content/rl-algo-impls/rl_algo_impls/microrts/java\n",
        "!java -cp \"rai.jar:$(find lib -name \"*.jar\" | tr '\\n' ':')\" tournaments.RAIRoundRobinTournament"
      ]
    }
  ],
  "metadata": {
    "colab": {
      "provenance": [],
      "private_outputs": true,
      "authorship_tag": "ABX9TyPXptlPEpvBgZzTkYTddwUI",
      "include_colab_link": true
    },
    "kernelspec": {
      "display_name": "Python 3",
      "name": "python3"
    },
    "language_info": {
      "name": "python"
    }
  },
  "nbformat": 4,
  "nbformat_minor": 0
}