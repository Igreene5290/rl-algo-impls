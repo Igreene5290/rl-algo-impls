{
  "cells": [
    {
      "cell_type": "markdown",
      "metadata": {
        "id": "view-in-github",
        "colab_type": "text"
      },
      "source": [
        "<a href=\"https://colab.research.google.com/github/sgoodfriend/rl-algo-impls/blob/main/rl_algo_impls/microrts/colab_microrts_demo.ipynb\" target=\"_parent\"><img src=\"https://colab.research.google.com/assets/colab-badge.svg\" alt=\"Open In Colab\"/></a>"
      ]
    },
    {
      "cell_type": "markdown",
      "metadata": {
        "id": "NTyZ8p0HR3TC"
      },
      "source": [
        "# Running Python MicroRTS submission in Google Colab\n",
        "[sgoodfriend/rl-algo-impls](https://github.com/sgoodfriend/rl-algo-impls) was used to [train a Python agent to play MicroRTS](https://wandb.ai/sgoodfriend/rl-algo-impls-benchmarks/reports/rl-algo-impls-MicroRTS-Training--Vmlldzo0NjA2NTAy). [Farama-Foundation/MicroRTS-Py](https://github.com/Farama-Foundation/MicroRTS-Py) was the inspiration for this training.\n",
        "\n",
        "Given MicroRTS is a Java environment, a Python server runs the Pytorch model, which communicates over a socket connection. This Colab notebook demonstrates what is necessary to install the necessary Python dependencies and expose a command-line endpoint for the submission jar file to communicate with.\n",
        "\n",
        "## Installation"
      ]
    },
    {
      "cell_type": "markdown",
      "source": [
        "1. Download the `rai.jar` submission file and `rl_algo_impls-0.0.16-py3-none-any.whl` Python installation file:"
      ],
      "metadata": {
        "id": "uPHqOiXBTIqe"
      }
    },
    {
      "cell_type": "code",
      "source": [
        "%%capture\n",
        "!apt-get install -y subversion\n",
        "!svn export https://github.com/sgoodfriend/rl-algo-impls/tags/v0.0.16/rl_algo_impls/microrts/java/rai.jar\n",
        "!wget https://github.com/sgoodfriend/rl-algo-impls/releases/download/v0.0.16/rl_algo_impls-0.0.16-py3-none-any.whl"
      ],
      "metadata": {
        "id": "U69wxfaJS7WY"
      },
      "execution_count": null,
      "outputs": []
    },
    {
      "cell_type": "markdown",
      "source": [
        "2. Install dependencies and rl_algo_impls Python wheel. This exposes the `rai_microrts` command-line endpoint, which will be called by the jar file. Ubuntu 20.04's default JDK is Java 11. setuptools and wheel have to be downgraded for the installation because rl-algo-impls depends on stable-baslines3, which depends on gym 0.21."
      ],
      "metadata": {
        "id": "DjVtuj6jmHB-"
      }
    },
    {
      "cell_type": "code",
      "execution_count": null,
      "metadata": {
        "id": "6-3xbBll4qJq"
      },
      "outputs": [],
      "source": [
        "%%capture\n",
        "# Output hidden for cleanliness; however, remove %%capture if any downstream issues\n",
        "!apt install -y default-jdk\n",
        "!pip install setuptools==65.5.0\n",
        "!pip install wheel==0.38.4\n",
        "!python -m pip install rl_algo_impls-0.0.16-py3-none-any.whl"
      ]
    },
    {
      "cell_type": "markdown",
      "source": [
        "3. Download the jar files (microrts.jar and bot jars) and maps to run the tournament:"
      ],
      "metadata": {
        "id": "TklKx6dRRCy4"
      }
    },
    {
      "cell_type": "code",
      "source": [
        "%%capture\n",
        "# Output hidden for cleanliness; however, remove %%capture if any downstream issues\n",
        "# microrts.jar and bot jars\n",
        "!svn export https://github.com/sgoodfriend/rl-algo-impls/tags/v0.0.16/rl_algo_impls/microrts/java/lib\n",
        "# Maps\n",
        "!svn export https://github.com/sgoodfriend/rl-algo-impls/tags/v0.0.16/rl_algo_impls/microrts/java/maps"
      ],
      "metadata": {
        "id": "MrGoTQ1QPJgw"
      },
      "execution_count": null,
      "outputs": []
    },
    {
      "cell_type": "markdown",
      "source": [
        "3. Run `tournaments.RAIRoundRobinTournament` which runs 10 iterations of the rai.jar `RAISocketAI` against 6 opponents on a 16x16 map. Depending on hardware, `RAISocketAI` can average from 50ms per turn on a Colab standard machine with 2-2.2GHz CPUs to 10ms per turn on modern CPUs, such as an Apple M1Max."
      ],
      "metadata": {
        "id": "koaWotNuu-dx"
      }
    },
    {
      "cell_type": "code",
      "execution_count": null,
      "metadata": {
        "id": "7DoCNZ6f6oFC"
      },
      "outputs": [],
      "source": [
        "!java -cp \"rai.jar:$(find lib -name \"*.jar\" | tr '\\n' ':')\" tournaments.RAIRoundRobinTournament"
      ]
    }
  ],
  "metadata": {
    "colab": {
      "provenance": [],
      "private_outputs": true,
      "authorship_tag": "ABX9TyOy6gj/XvrlBa6LMkW0Q+nj",
      "include_colab_link": true
    },
    "kernelspec": {
      "display_name": "Python 3",
      "name": "python3"
    },
    "language_info": {
      "name": "python"
    }
  },
  "nbformat": 4,
  "nbformat_minor": 0
}