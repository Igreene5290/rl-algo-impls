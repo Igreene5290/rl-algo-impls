{
  "cells": [
    {
      "cell_type": "markdown",
      "metadata": {
        "id": "view-in-github",
        "colab_type": "text"
      },
      "source": [
        "<a href=\"https://colab.research.google.com/github/sgoodfriend/rl-algo-impls/blob/main/rl_algo_impls/microrts/colab_microrts_demo.ipynb\" target=\"_parent\"><img src=\"https://colab.research.google.com/assets/colab-badge.svg\" alt=\"Open In Colab\"/></a>"
      ]
    },
    {
      "cell_type": "markdown",
      "metadata": {
        "id": "NTyZ8p0HR3TC"
      },
      "source": [
        "# Running RoundRobinTournament in Google Colab\n",
        "MicroRTS has to talk to a Python server that runs code from the [sgoodfrieng/rl-algo-impls](https://github.com/sgoodfriend/rl-algo-impls) repo. This trained a residual convolutional model using PPO with invalid action masking. [Farama-Foundation/MicroRTS](https://github.com/Farama-Foundation/MicroRTS) was the inspiration for the training; however, at this point the useful bits of code are in rl-algo-impls as I extended behavior slightly.\n",
        "\n",
        "## Installation\n",
        "1. Clone repo"
      ]
    },
    {
      "cell_type": "code",
      "execution_count": 1,
      "metadata": {
        "id": "1BjBfKkN4a8V"
      },
      "outputs": [],
      "source": [
        "%%capture\n",
        "!git clone https://github.com/sgoodfriend/rl-algo-impls.git"
      ]
    },
    {
      "cell_type": "markdown",
      "source": [
        "2. Install dependencies and expose `rai_microrts` command-line endpoint. Ubuntu 20.04's default JDK is Java 11. setuptools and wheel had to be downgraded because rl-algo-impls depends on stable-baslines3, which depends on gym 0.21."
      ],
      "metadata": {
        "id": "DjVtuj6jmHB-"
      }
    },
    {
      "cell_type": "code",
      "execution_count": 2,
      "metadata": {
        "id": "6-3xbBll4qJq"
      },
      "outputs": [],
      "source": [
        "%%capture\n",
        "!apt install -y default-jdk\n",
        "!pip install setuptools==65.5.0\n",
        "!pip install wheel==0.38.4\n",
        "\n",
        "%cd /content/rl-algo-impls\n",
        "!git checkout 2519ac50fb82ee9b48eea09cb7240f830c60a2e7\n",
        "!python -m pip install -e ."
      ]
    },
    {
      "cell_type": "markdown",
      "source": [
        "3. Download model. This model was trained on a series of "
      ],
      "metadata": {
        "id": "3A_8BI5YmGZg"
      }
    },
    {
      "cell_type": "code",
      "source": [
        "%%capture\n",
        "%cd /content/rl-algo-impls/\n",
        "%mkdir -p saved_models/ppo-Microrts-selfplay-dc-phases-A10-S1-best\n",
        "%cd saved_models/ppo-Microrts-selfplay-dc-phases-A10-S1-best\n",
        "!wget https://api.wandb.ai/files/sgoodfriend/rl-algo-impls-benchmarks/df4flrs4/ppo-Microrts-selfplay-dc-phases-A10-S1-best.zip\n",
        "!unzip ppo-Microrts-selfplay-dc-phases-A10-S1-best.zip"
      ],
      "metadata": {
        "id": "zVsn5YWEa_YN"
      },
      "execution_count": 3,
      "outputs": []
    },
    {
      "cell_type": "code",
      "execution_count": null,
      "metadata": {
        "colab": {
          "base_uri": "https://localhost:8080/"
        },
        "id": "7DoCNZ6f6oFC",
        "outputId": "e10f4355-24a1-4f34-f0f0-ad7f2f4c93e7"
      },
      "outputs": [
        {
          "output_type": "stream",
          "name": "stdout",
          "text": [
            "/content/rl-algo-impls/rl_algo_impls/microrts/java\n",
            "tournaments.RoundRobinTournament: Starting tournament\n",
            "MATCH UP: RAISocketAI vs RandomBiasedAI\n",
            "preGameAnalysis player 1 took 691\n",
            "preGameAnalysis player 1 took 0\n",
            "Winner: 0  in 557 cycles\n",
            "RAISocketAI : null\n",
            "RandomBiasedAI : null\n",
            "AI1 time usage, average:  51.64991023339318, # times over budget: 14 (avg 118.5) , # times over 2*budget: 0 (avg NaN)\n",
            "AI2 time usage, average:  0.026929982046678635, # times over budget: 0 (avg NaN) , # times over 2*budget: 0 (avg NaN)\n",
            "MATCH UP: RAISocketAI vs ContinuingAI(NaiveMCTS(100, -1, 100,10,0.3, 1.0, 0.0, 1.0, 0.4, 1.0, RandomBiasedAI, SimpleSqrtEvaluationFunction3))\n",
            "preGameAnalysis player 1 took 720\n",
            "preGameAnalysis player 1 took 0\n",
            "Winner: 0  in 650 cycles\n",
            "RAISocketAI : null\n",
            "ContinuingAI(NaiveMCTS(100, -1, 100,10,0.3, 1.0, 0.0, 1.0, 0.4, 1.0, RandomBiasedAI, SimpleSqrtEvaluationFunction3)) : Total runs: 167554, runs per action: 2094.425, runs per cycle: 417.8404, average time per cycle: 100.341644, max branching factor: 508032\n",
            "AI1 time usage, average:  53.035384615384615, # times over budget: 12 (avg 137.33333333333334) , # times over 2*budget: 0 (avg NaN)\n",
            "AI2 time usage, average:  61.95076923076923, # times over budget: 56 (avg 102.875) , # times over 2*budget: 0 (avg NaN)\n",
            "MATCH UP: RAISocketAI vs POWorkerRush(AStarPathFinding)\n",
            "preGameAnalysis player 1 took 279\n",
            "preGameAnalysis player 1 took 0\n",
            "Winner: 0  in 1317 cycles\n",
            "RAISocketAI : null\n",
            "POWorkerRush(AStarPathFinding) : null\n",
            "AI1 time usage, average:  50.28094153378891, # times over budget: 21 (avg 121.95238095238095) , # times over 2*budget: 0 (avg NaN)\n",
            "AI2 time usage, average:  0.0683371298405467, # times over budget: 0 (avg NaN) , # times over 2*budget: 0 (avg NaN)\n",
            "MATCH UP: RAISocketAI vs POLightRush(AStarPathFinding)\n",
            "preGameAnalysis player 1 took 459\n",
            "preGameAnalysis player 1 took 0\n",
            "Winner: 0  in 430 cycles\n",
            "RAISocketAI : null\n",
            "POLightRush(AStarPathFinding) : null\n",
            "AI1 time usage, average:  50.62093023255814, # times over budget: 3 (avg 141.66666666666666) , # times over 2*budget: 0 (avg NaN)\n",
            "AI2 time usage, average:  0.03255813953488372, # times over budget: 0 (avg NaN) , # times over 2*budget: 0 (avg NaN)\n",
            "MATCH UP: RAISocketAI vs CoacAI(AStarPathFinding)\n",
            "preGameAnalysis player 1 took 346\n",
            "preGameAnalysis player 1 took 0\n",
            "Winner: 1  in 1479 cycles\n",
            "RAISocketAI : null\n",
            "CoacAI(AStarPathFinding) : null\n",
            "AI1 time usage, average:  50.4895199459094, # times over budget: 7 (avg 136.0) , # times over 2*budget: 0 (avg NaN)\n",
            "AI2 time usage, average:  0.24949290060851928, # times over budget: 0 (avg NaN) , # times over 2*budget: 0 (avg NaN)\n",
            "MATCH UP: RAISocketAI vs mayari\n",
            "preGameAnalysis player 1 took 518\n",
            "preGameAnalysis player 1 took 0\n",
            "Winner: 0  in 677 cycles\n",
            "RAISocketAI : null\n",
            "mayari : null\n",
            "AI1 time usage, average:  48.595273264401776, # times over budget: 0 (avg NaN) , # times over 2*budget: 0 (avg NaN)\n",
            "AI2 time usage, average:  0.24076809453471196, # times over budget: 0 (avg NaN) , # times over 2*budget: 0 (avg NaN)\n",
            "MATCH UP: RandomBiasedAI vs RAISocketAI\n",
            "preGameAnalysis player 1 took 0\n",
            "preGameAnalysis player 1 took 263\n",
            "Winner: 1  in 515 cycles\n",
            "RandomBiasedAI : null\n",
            "RAISocketAI : null\n",
            "AI1 time usage, average:  0.027184466019417475, # times over budget: 0 (avg NaN) , # times over 2*budget: 0 (avg NaN)\n",
            "AI2 time usage, average:  47.724271844660194, # times over budget: 1 (avg 127.0) , # times over 2*budget: 0 (avg NaN)\n",
            "MATCH UP: ContinuingAI(NaiveMCTS(100, -1, 100,10,0.3, 1.0, 0.0, 1.0, 0.4, 1.0, RandomBiasedAI, SimpleSqrtEvaluationFunction3)) vs RAISocketAI\n",
            "preGameAnalysis player 1 took 0\n",
            "preGameAnalysis player 1 took 269\n",
            "Winner: 1  in 763 cycles\n",
            "ContinuingAI(NaiveMCTS(100, -1, 100,10,0.3, 1.0, 0.0, 1.0, 0.4, 1.0, RandomBiasedAI, SimpleSqrtEvaluationFunction3)) : Total runs: 151885, runs per action: 1745.8046, runs per cycle: 463.06403, average time per cycle: 100.26219, max branching factor: 333396\n",
            "RAISocketAI : null\n",
            "AI1 time usage, average:  43.12581913499345, # times over budget: 28 (avg 103.32142857142857) , # times over 2*budget: 0 (avg NaN)\n",
            "AI2 time usage, average:  49.76146788990825, # times over budget: 4 (avg 120.75) , # times over 2*budget: 0 (avg NaN)\n",
            "MATCH UP: POWorkerRush(AStarPathFinding) vs RAISocketAI\n",
            "preGameAnalysis player 1 took 0\n",
            "preGameAnalysis player 1 took 269\n",
            "Winner: 1  in 688 cycles\n",
            "POWorkerRush(AStarPathFinding) : null\n",
            "RAISocketAI : null\n",
            "AI1 time usage, average:  0.05813953488372093, # times over budget: 0 (avg NaN) , # times over 2*budget: 0 (avg NaN)\n",
            "AI2 time usage, average:  50.51744186046512, # times over budget: 14 (avg 112.28571428571429) , # times over 2*budget: 0 (avg NaN)\n",
            "MATCH UP: POLightRush(AStarPathFinding) vs RAISocketAI\n",
            "preGameAnalysis player 1 took 0\n",
            "preGameAnalysis player 1 took 268\n",
            "Winner: 1  in 550 cycles\n",
            "POLightRush(AStarPathFinding) : null\n",
            "RAISocketAI : null\n",
            "AI1 time usage, average:  0.02909090909090909, # times over budget: 0 (avg NaN) , # times over 2*budget: 0 (avg NaN)\n",
            "AI2 time usage, average:  47.93636363636364, # times over budget: 0 (avg NaN) , # times over 2*budget: 0 (avg NaN)\n",
            "MATCH UP: CoacAI(AStarPathFinding) vs RAISocketAI\n",
            "preGameAnalysis player 1 took 0\n",
            "preGameAnalysis player 1 took 353\n",
            "Winner: 0  in 1133 cycles\n",
            "CoacAI(AStarPathFinding) : null\n",
            "RAISocketAI : null\n",
            "AI1 time usage, average:  0.13857016769638128, # times over budget: 0 (avg NaN) , # times over 2*budget: 0 (avg NaN)\n",
            "AI2 time usage, average:  50.863195057369815, # times over budget: 13 (avg 115.38461538461539) , # times over 2*budget: 0 (avg NaN)\n",
            "MATCH UP: mayari vs RAISocketAI\n",
            "preGameAnalysis player 1 took 0\n",
            "preGameAnalysis player 1 took 266\n",
            "Winner: 0  in 1444 cycles\n",
            "mayari : null\n",
            "RAISocketAI : null\n",
            "AI1 time usage, average:  0.18698060941828254, # times over budget: 0 (avg NaN) , # times over 2*budget: 0 (avg NaN)\n",
            "AI2 time usage, average:  50.66274238227147, # times over budget: 15 (avg 151.0) , # times over 2*budget: 0 (avg NaN)\n",
            "MATCH UP: RAISocketAI vs RandomBiasedAI\n",
            "preGameAnalysis player 1 took 394\n",
            "preGameAnalysis player 1 took 0\n",
            "Winner: 0  in 547 cycles\n",
            "RAISocketAI : null\n",
            "RandomBiasedAI : null\n",
            "AI1 time usage, average:  47.38208409506399, # times over budget: 0 (avg NaN) , # times over 2*budget: 0 (avg NaN)\n",
            "AI2 time usage, average:  0.016453382084095063, # times over budget: 0 (avg NaN) , # times over 2*budget: 0 (avg NaN)\n",
            "MATCH UP: RAISocketAI vs ContinuingAI(NaiveMCTS(100, -1, 100,10,0.3, 1.0, 0.0, 1.0, 0.4, 1.0, RandomBiasedAI, SimpleSqrtEvaluationFunction3))\n",
            "preGameAnalysis player 1 took 264\n",
            "preGameAnalysis player 1 took 0\n",
            "Winner: 0  in 855 cycles\n",
            "RAISocketAI : null\n",
            "ContinuingAI(NaiveMCTS(100, -1, 100,10,0.3, 1.0, 0.0, 1.0, 0.4, 1.0, RandomBiasedAI, SimpleSqrtEvaluationFunction3)) : Total runs: 164253, runs per action: 1825.0333, runs per cycle: 404.56403, average time per cycle: 100.23645, max branching factor: 166698\n",
            "AI1 time usage, average:  50.681871345029236, # times over budget: 7 (avg 115.85714285714286) , # times over 2*budget: 0 (avg NaN)\n",
            "AI2 time usage, average:  47.6233918128655, # times over budget: 37 (avg 102.78378378378379) , # times over 2*budget: 0 (avg NaN)\n",
            "MATCH UP: RAISocketAI vs POWorkerRush(AStarPathFinding)\n",
            "preGameAnalysis player 1 took 396\n",
            "preGameAnalysis player 1 took 0\n",
            "Winner: 0  in 735 cycles\n",
            "RAISocketAI : null\n",
            "POWorkerRush(AStarPathFinding) : null\n",
            "AI1 time usage, average:  47.97959183673469, # times over budget: 0 (avg NaN) , # times over 2*budget: 0 (avg NaN)\n",
            "AI2 time usage, average:  0.04897959183673469, # times over budget: 0 (avg NaN) , # times over 2*budget: 0 (avg NaN)\n",
            "MATCH UP: RAISocketAI vs POLightRush(AStarPathFinding)\n",
            "preGameAnalysis player 1 took 265\n",
            "preGameAnalysis player 1 took 0\n",
            "Winner: 0  in 882 cycles\n",
            "RAISocketAI : null\n",
            "POLightRush(AStarPathFinding) : null\n",
            "AI1 time usage, average:  48.95578231292517, # times over budget: 10 (avg 132.6) , # times over 2*budget: 0 (avg NaN)\n",
            "AI2 time usage, average:  0.048752834467120185, # times over budget: 0 (avg NaN) , # times over 2*budget: 0 (avg NaN)\n",
            "MATCH UP: RAISocketAI vs CoacAI(AStarPathFinding)\n",
            "preGameAnalysis player 1 took 355\n",
            "preGameAnalysis player 1 took 0\n",
            "Winner: 1  in 1728 cycles\n",
            "RAISocketAI : null\n",
            "CoacAI(AStarPathFinding) : null\n",
            "AI1 time usage, average:  48.945023148148145, # times over budget: 0 (avg NaN) , # times over 2*budget: 0 (avg NaN)\n",
            "AI2 time usage, average:  0.13310185185185186, # times over budget: 0 (avg NaN) , # times over 2*budget: 0 (avg NaN)\n",
            "MATCH UP: RAISocketAI vs mayari\n",
            "preGameAnalysis player 1 took 267\n",
            "preGameAnalysis player 1 took 0\n",
            "Winner: 0  in 984 cycles\n",
            "RAISocketAI : null\n",
            "mayari : null\n",
            "AI1 time usage, average:  47.56707317073171, # times over budget: 0 (avg NaN) , # times over 2*budget: 0 (avg NaN)\n",
            "AI2 time usage, average:  0.14329268292682926, # times over budget: 0 (avg NaN) , # times over 2*budget: 0 (avg NaN)\n",
            "MATCH UP: RandomBiasedAI vs RAISocketAI\n",
            "preGameAnalysis player 1 took 0\n",
            "preGameAnalysis player 1 took 259\n",
            "Winner: 1  in 609 cycles\n",
            "RandomBiasedAI : null\n",
            "RAISocketAI : null\n",
            "AI1 time usage, average:  0.019704433497536946, # times over budget: 0 (avg NaN) , # times over 2*budget: 0 (avg NaN)\n",
            "AI2 time usage, average:  50.41543513957307, # times over budget: 11 (avg 126.36363636363636) , # times over 2*budget: 0 (avg NaN)\n",
            "MATCH UP: ContinuingAI(NaiveMCTS(100, -1, 100,10,0.3, 1.0, 0.0, 1.0, 0.4, 1.0, RandomBiasedAI, SimpleSqrtEvaluationFunction3)) vs RAISocketAI\n",
            "preGameAnalysis player 1 took 0\n",
            "preGameAnalysis player 1 took 264\n",
            "Winner: 1  in 837 cycles\n",
            "ContinuingAI(NaiveMCTS(100, -1, 100,10,0.3, 1.0, 0.0, 1.0, 0.4, 1.0, RandomBiasedAI, SimpleSqrtEvaluationFunction3)) : Total runs: 138716, runs per action: 1576.3182, runs per cycle: 432.1371, average time per cycle: 100.22742, max branching factor: 1111320\n",
            "RAISocketAI : null\n",
            "AI1 time usage, average:  38.473118279569896, # times over budget: 30 (avg 102.63333333333334) , # times over 2*budget: 0 (avg NaN)\n",
            "AI2 time usage, average:  49.55555555555556, # times over budget: 2 (avg 109.5) , # times over 2*budget: 0 (avg NaN)\n",
            "MATCH UP: POWorkerRush(AStarPathFinding) vs RAISocketAI\n",
            "preGameAnalysis player 1 took 0\n",
            "preGameAnalysis player 1 took 391\n",
            "Winner: 1  in 605 cycles\n",
            "POWorkerRush(AStarPathFinding) : null\n",
            "RAISocketAI : null\n",
            "AI1 time usage, average:  0.019834710743801654, # times over budget: 0 (avg NaN) , # times over 2*budget: 0 (avg NaN)\n",
            "AI2 time usage, average:  47.53884297520661, # times over budget: 0 (avg NaN) , # times over 2*budget: 0 (avg NaN)\n",
            "MATCH UP: POLightRush(AStarPathFinding) vs RAISocketAI\n",
            "preGameAnalysis player 1 took 0\n",
            "preGameAnalysis player 1 took 273\n",
            "Winner: 1  in 407 cycles\n",
            "POLightRush(AStarPathFinding) : null\n",
            "RAISocketAI : null\n",
            "AI1 time usage, average:  0.03931203931203931, # times over budget: 0 (avg NaN) , # times over 2*budget: 0 (avg NaN)\n",
            "AI2 time usage, average:  50.7027027027027, # times over budget: 0 (avg NaN) , # times over 2*budget: 0 (avg NaN)\n"
          ]
        }
      ],
      "source": [
        "%cd /content/rl-algo-impls/rl_algo_impls/microrts/java\n",
        "!java -cp \"rai.jar:$(find lib -name \"*.jar\" | tr '\\n' ':')\" tournaments.RAIRoundRobinTournament"
      ]
    }
  ],
  "metadata": {
    "colab": {
      "provenance": [],
      "authorship_tag": "ABX9TyPFR21G6XlXemwaDvXZZlYs",
      "include_colab_link": true
    },
    "kernelspec": {
      "display_name": "Python 3",
      "name": "python3"
    },
    "language_info": {
      "name": "python"
    }
  },
  "nbformat": 4,
  "nbformat_minor": 0
}